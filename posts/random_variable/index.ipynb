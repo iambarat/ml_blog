{
  "cells": [
    {
      "cell_type": "raw",
      "metadata": {},
      "source": [
        "---\n",
        "title: \"Understanding Random Variables in Machine Learning\"\n",
        "format: html\n",
        "---"
      ],
      "id": "23f324e4"
    },
    {
      "cell_type": "markdown",
      "metadata": {},
      "source": [
        "# Random Variables in Machine Learning\n",
        "\n",
        "## Introduction\n",
        "\n",
        "In this post, we'll explore the concept of random variables in the context of machine learning using Python. Understanding random variables is essential for grasping the fundamentals of probabilistic models and statistical methods in machine learning.\n",
        "\n",
        "### What is a Random Variable?\n",
        "\n",
        "A random variable is a variable whose possible values are numerical outcomes of a random phenomenon. In machine learning, they are key to modeling uncertainties and probabilities.\n",
        "\n",
        "## Simulating Random Variables in Python\n",
        "\n",
        "Python, with libraries like `numpy` and `matplotlib`, is a powerful tool for statistical simulations. Let's demonstrate this with some examples.\n",
        "\n",
        "### Discrete Random Variables\n",
        "\n",
        "First, we'll simulate a discrete random variable: the outcome of a dice roll.\n"
      ],
      "id": "1b081bf6"
    },
    {
      "cell_type": "code",
      "metadata": {},
      "source": [
        "library(reticulate)\n",
        "use_python(\"/Users/bota/Files/VT/Course Materials/Fall 23/ML Blog/vscode/mlblog/bin/python\")\n",
        "import numpy as np\n",
        "import matplotlib.pyplot as plt\n",
        "\n",
        "# Setting a seed for reproducibility\n",
        "np.random.seed(123)\n",
        "\n",
        "# Simulating dice rolls\n",
        "dice_rolls = np.random.choice([1, 2, 3, 4, 5, 6], size=1000)\n",
        "\n",
        "# Plotting the results\n",
        "plt.hist(dice_rolls, bins=np.arange(1, 8) - 0.5, rwidth=0.8)\n",
        "plt.title('Dice Roll Distribution')\n",
        "plt.xlabel('Dice Value')\n",
        "plt.ylabel('Frequency')\n",
        "plt.xticks(range(1, 7))\n",
        "plt.show()\n",
        "\n",
        "# Simulating a normal distribution\n",
        "normal_data = np.random.normal(loc=0, scale=1, size=1000)\n",
        "\n",
        "# Plotting the results\n",
        "plt.hist(normal_data, bins=30, density=True, alpha=0.6, color='g')\n",
        "plt.title('Normal Distribution')\n",
        "plt.xlabel('Value')\n",
        "plt.ylabel('Density')\n",
        "plt.show()"
      ],
      "id": "b7a25e03",
      "execution_count": null,
      "outputs": []
    }
  ],
  "metadata": {
    "kernelspec": {
      "name": "python3",
      "language": "python",
      "display_name": "Python 3 (ipykernel)"
    }
  },
  "nbformat": 4,
  "nbformat_minor": 5
}